{
 "cells": [
  {
   "cell_type": "code",
   "execution_count": 1,
   "metadata": {},
   "outputs": [],
   "source": [
    "favMovie = \"Tintanc\"\n",
    "movieRate = 3\n",
    "score = 72.65"
   ]
  },
  {
   "cell_type": "code",
   "execution_count": 16,
   "metadata": {},
   "outputs": [
    {
     "name": "stdout",
     "output_type": "stream",
     "text": [
      "I recommended it, It is good\n"
     ]
    }
   ],
   "source": [
    "if ( (movieRate >= 4 )  and  (score > 80) ): \n",
    "    print (\"Highly recommended\")\n",
    "elif ( (movieRate >= 3 ) and  (score > 70 ) ):\n",
    "    print (\"I recommended it, It is good\")\n",
    "elif ((movieRate <= 2 ) and ( score > 60)):\n",
    "    print (\"You should check it out!\")\n",
    "else:\n",
    "    print (\"Don't watch it, It is a waste of time\")\n",
    "            \n"
   ]
  },
  {
   "cell_type": "code",
   "execution_count": null,
   "metadata": {},
   "outputs": [],
   "source": []
  }
 ],
 "metadata": {
  "kernelspec": {
   "display_name": "Python 3",
   "language": "python",
   "name": "python3"
  },
  "language_info": {
   "codemirror_mode": {
    "name": "ipython",
    "version": 3
   },
   "file_extension": ".py",
   "mimetype": "text/x-python",
   "name": "python",
   "nbconvert_exporter": "python",
   "pygments_lexer": "ipython3",
   "version": "3.7.6"
  }
 },
 "nbformat": 4,
 "nbformat_minor": 4
}
